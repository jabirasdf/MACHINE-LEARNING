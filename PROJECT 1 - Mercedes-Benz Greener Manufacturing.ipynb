{
 "cells": [
  {
   "cell_type": "markdown",
   "id": "8e171f5f",
   "metadata": {},
   "source": [
    "## Import the required libraries"
   ]
  },
  {
   "cell_type": "code",
   "execution_count": 74,
   "id": "df051544",
   "metadata": {},
   "outputs": [],
   "source": [
    "import numpy as np\n",
    "import pandas as pd\n",
    "from sklearn.decomposition import PCA\n",
    "import warnings\n",
    "warnings.filterwarnings('ignore')"
   ]
  },
  {
   "cell_type": "markdown",
   "id": "dd924e0b",
   "metadata": {},
   "source": [
    "## Read the data from train.csv"
   ]
  },
  {
   "cell_type": "code",
   "execution_count": 75,
   "id": "58a236bd",
   "metadata": {},
   "outputs": [
    {
     "data": {
      "text/plain": [
       "(4209, 378)"
      ]
     },
     "execution_count": 75,
     "metadata": {},
     "output_type": "execute_result"
    }
   ],
   "source": [
    "df_train = pd.read_csv('train.csv')\n",
    "df_train.shape"
   ]
  },
  {
   "cell_type": "code",
   "execution_count": 76,
   "id": "d4514679",
   "metadata": {},
   "outputs": [
    {
     "data": {
      "text/html": [
       "<div>\n",
       "<style scoped>\n",
       "    .dataframe tbody tr th:only-of-type {\n",
       "        vertical-align: middle;\n",
       "    }\n",
       "\n",
       "    .dataframe tbody tr th {\n",
       "        vertical-align: top;\n",
       "    }\n",
       "\n",
       "    .dataframe thead th {\n",
       "        text-align: right;\n",
       "    }\n",
       "</style>\n",
       "<table border=\"1\" class=\"dataframe\">\n",
       "  <thead>\n",
       "    <tr style=\"text-align: right;\">\n",
       "      <th></th>\n",
       "      <th>ID</th>\n",
       "      <th>y</th>\n",
       "      <th>X0</th>\n",
       "      <th>X1</th>\n",
       "      <th>X2</th>\n",
       "      <th>X3</th>\n",
       "      <th>X4</th>\n",
       "      <th>X5</th>\n",
       "      <th>X6</th>\n",
       "      <th>X8</th>\n",
       "      <th>...</th>\n",
       "      <th>X375</th>\n",
       "      <th>X376</th>\n",
       "      <th>X377</th>\n",
       "      <th>X378</th>\n",
       "      <th>X379</th>\n",
       "      <th>X380</th>\n",
       "      <th>X382</th>\n",
       "      <th>X383</th>\n",
       "      <th>X384</th>\n",
       "      <th>X385</th>\n",
       "    </tr>\n",
       "  </thead>\n",
       "  <tbody>\n",
       "    <tr>\n",
       "      <th>0</th>\n",
       "      <td>0</td>\n",
       "      <td>130.81</td>\n",
       "      <td>k</td>\n",
       "      <td>v</td>\n",
       "      <td>at</td>\n",
       "      <td>a</td>\n",
       "      <td>d</td>\n",
       "      <td>u</td>\n",
       "      <td>j</td>\n",
       "      <td>o</td>\n",
       "      <td>...</td>\n",
       "      <td>0</td>\n",
       "      <td>0</td>\n",
       "      <td>1</td>\n",
       "      <td>0</td>\n",
       "      <td>0</td>\n",
       "      <td>0</td>\n",
       "      <td>0</td>\n",
       "      <td>0</td>\n",
       "      <td>0</td>\n",
       "      <td>0</td>\n",
       "    </tr>\n",
       "    <tr>\n",
       "      <th>1</th>\n",
       "      <td>6</td>\n",
       "      <td>88.53</td>\n",
       "      <td>k</td>\n",
       "      <td>t</td>\n",
       "      <td>av</td>\n",
       "      <td>e</td>\n",
       "      <td>d</td>\n",
       "      <td>y</td>\n",
       "      <td>l</td>\n",
       "      <td>o</td>\n",
       "      <td>...</td>\n",
       "      <td>1</td>\n",
       "      <td>0</td>\n",
       "      <td>0</td>\n",
       "      <td>0</td>\n",
       "      <td>0</td>\n",
       "      <td>0</td>\n",
       "      <td>0</td>\n",
       "      <td>0</td>\n",
       "      <td>0</td>\n",
       "      <td>0</td>\n",
       "    </tr>\n",
       "    <tr>\n",
       "      <th>2</th>\n",
       "      <td>7</td>\n",
       "      <td>76.26</td>\n",
       "      <td>az</td>\n",
       "      <td>w</td>\n",
       "      <td>n</td>\n",
       "      <td>c</td>\n",
       "      <td>d</td>\n",
       "      <td>x</td>\n",
       "      <td>j</td>\n",
       "      <td>x</td>\n",
       "      <td>...</td>\n",
       "      <td>0</td>\n",
       "      <td>0</td>\n",
       "      <td>0</td>\n",
       "      <td>0</td>\n",
       "      <td>0</td>\n",
       "      <td>0</td>\n",
       "      <td>1</td>\n",
       "      <td>0</td>\n",
       "      <td>0</td>\n",
       "      <td>0</td>\n",
       "    </tr>\n",
       "    <tr>\n",
       "      <th>3</th>\n",
       "      <td>9</td>\n",
       "      <td>80.62</td>\n",
       "      <td>az</td>\n",
       "      <td>t</td>\n",
       "      <td>n</td>\n",
       "      <td>f</td>\n",
       "      <td>d</td>\n",
       "      <td>x</td>\n",
       "      <td>l</td>\n",
       "      <td>e</td>\n",
       "      <td>...</td>\n",
       "      <td>0</td>\n",
       "      <td>0</td>\n",
       "      <td>0</td>\n",
       "      <td>0</td>\n",
       "      <td>0</td>\n",
       "      <td>0</td>\n",
       "      <td>0</td>\n",
       "      <td>0</td>\n",
       "      <td>0</td>\n",
       "      <td>0</td>\n",
       "    </tr>\n",
       "    <tr>\n",
       "      <th>4</th>\n",
       "      <td>13</td>\n",
       "      <td>78.02</td>\n",
       "      <td>az</td>\n",
       "      <td>v</td>\n",
       "      <td>n</td>\n",
       "      <td>f</td>\n",
       "      <td>d</td>\n",
       "      <td>h</td>\n",
       "      <td>d</td>\n",
       "      <td>n</td>\n",
       "      <td>...</td>\n",
       "      <td>0</td>\n",
       "      <td>0</td>\n",
       "      <td>0</td>\n",
       "      <td>0</td>\n",
       "      <td>0</td>\n",
       "      <td>0</td>\n",
       "      <td>0</td>\n",
       "      <td>0</td>\n",
       "      <td>0</td>\n",
       "      <td>0</td>\n",
       "    </tr>\n",
       "  </tbody>\n",
       "</table>\n",
       "<p>5 rows × 378 columns</p>\n",
       "</div>"
      ],
      "text/plain": [
       "   ID       y  X0 X1  X2 X3 X4 X5 X6 X8  ...  X375  X376  X377  X378  X379  \\\n",
       "0   0  130.81   k  v  at  a  d  u  j  o  ...     0     0     1     0     0   \n",
       "1   6   88.53   k  t  av  e  d  y  l  o  ...     1     0     0     0     0   \n",
       "2   7   76.26  az  w   n  c  d  x  j  x  ...     0     0     0     0     0   \n",
       "3   9   80.62  az  t   n  f  d  x  l  e  ...     0     0     0     0     0   \n",
       "4  13   78.02  az  v   n  f  d  h  d  n  ...     0     0     0     0     0   \n",
       "\n",
       "   X380  X382  X383  X384  X385  \n",
       "0     0     0     0     0     0  \n",
       "1     0     0     0     0     0  \n",
       "2     0     1     0     0     0  \n",
       "3     0     0     0     0     0  \n",
       "4     0     0     0     0     0  \n",
       "\n",
       "[5 rows x 378 columns]"
      ]
     },
     "execution_count": 76,
     "metadata": {},
     "output_type": "execute_result"
    }
   ],
   "source": [
    "df_train.head()"
   ]
  },
  {
   "cell_type": "markdown",
   "id": "0c55c033",
   "metadata": {},
   "source": [
    "## Collect the Y values into an array"
   ]
  },
  {
   "cell_type": "code",
   "execution_count": 77,
   "id": "5ddfeedb",
   "metadata": {},
   "outputs": [],
   "source": [
    "# seperate the y from the data as we will use this to learn as \n",
    "# the prediction output\n",
    "y_train = df_train['y'].values"
   ]
  },
  {
   "cell_type": "markdown",
   "id": "99ddd1b1",
   "metadata": {},
   "source": [
    "## Understand the data types we have"
   ]
  },
  {
   "cell_type": "code",
   "execution_count": 78,
   "id": "8c625f8e",
   "metadata": {},
   "outputs": [
    {
     "name": "stdout",
     "output_type": "stream",
     "text": [
      "Number of features: 376\n",
      "Feature types:\n"
     ]
    },
    {
     "data": {
      "text/plain": [
       "int64     368\n",
       "object      8\n",
       "dtype: int64"
      ]
     },
     "execution_count": 78,
     "metadata": {},
     "output_type": "execute_result"
    }
   ],
   "source": [
    "# iterate through all the columns which has X in the name of the column\n",
    "cols = [c for c in df_train.columns if 'X' in c]\n",
    "print('Number of features: {}'.format(len(cols)))\n",
    "\n",
    "print('Feature types:')\n",
    "df_train[cols].dtypes.value_counts()"
   ]
  },
  {
   "cell_type": "markdown",
   "id": "c922902f",
   "metadata": {},
   "source": [
    "## Count the data in each of the columns"
   ]
  },
  {
   "cell_type": "code",
   "execution_count": 79,
   "id": "578593df",
   "metadata": {},
   "outputs": [],
   "source": [
    "counts = [[], [], []]\n",
    "for c in cols:\n",
    "    typ = df_train[c].dtype\n",
    "    uniq = len(np.unique(df_train[c]))\n",
    "    if uniq == 1:\n",
    "        counts[0].append(c)\n",
    "    elif uniq == 2 and typ == np.int64:\n",
    "        counts[1].append(c)\n",
    "    else:\n",
    "        counts[2].append(c)"
   ]
  },
  {
   "cell_type": "code",
   "execution_count": 80,
   "id": "63dc7cc0",
   "metadata": {},
   "outputs": [
    {
     "name": "stdout",
     "output_type": "stream",
     "text": [
      "Constant features: 12 Binary features: 356 Categorical features: 8\n",
      "\n",
      "Constant features: ['X11', 'X93', 'X107', 'X233', 'X235', 'X268', 'X289', 'X290', 'X293', 'X297', 'X330', 'X347']\n",
      "Categorical features: ['X0', 'X1', 'X2', 'X3', 'X4', 'X5', 'X6', 'X8']\n"
     ]
    }
   ],
   "source": [
    "print('Constant features: {} Binary features: {} Categorical features: {}\\n'\n",
    "      .format(*[len(c) for c in counts]))\n",
    "print('Constant features:', counts[0])\n",
    "print('Categorical features:', counts[2])"
   ]
  },
  {
   "cell_type": "markdown",
   "id": "b196e3ab",
   "metadata": {},
   "source": [
    "## Read the test.csv data"
   ]
  },
  {
   "cell_type": "code",
   "execution_count": 81,
   "id": "c71c22c9",
   "metadata": {},
   "outputs": [],
   "source": [
    "df_test = pd.read_csv('test.csv')"
   ]
  },
  {
   "cell_type": "code",
   "execution_count": 82,
   "id": "84e8c463",
   "metadata": {},
   "outputs": [],
   "source": [
    "# remove columns ID and Y from the data as they are not used for learning\n",
    "usable_columns = list(set(df_train.columns) - set(['ID', 'y']))\n",
    "y_train = df_train['y'].values\n",
    "id_test = df_test['ID'].values"
   ]
  },
  {
   "cell_type": "code",
   "execution_count": 83,
   "id": "361458b2",
   "metadata": {},
   "outputs": [],
   "source": [
    "x_train = df_train[usable_columns]\n",
    "x_test = df_test[usable_columns]"
   ]
  },
  {
   "cell_type": "markdown",
   "id": "bdd1c42f",
   "metadata": {},
   "source": [
    "## Check for null and unique values for test and train sets"
   ]
  },
  {
   "cell_type": "code",
   "execution_count": 84,
   "id": "36dd4be2",
   "metadata": {},
   "outputs": [
    {
     "name": "stdout",
     "output_type": "stream",
     "text": [
      "There are no missing values in the dataframe\n",
      "There are no missing values in the dataframe\n"
     ]
    }
   ],
   "source": [
    "def check_missing_values(df):\n",
    "    if df.isnull().any().any():\n",
    "        print(\"There are missing values in the dataframe\")\n",
    "    else:\n",
    "        print(\"There are no missing values in the dataframe\")\n",
    "check_missing_values(x_train)\n",
    "check_missing_values(x_test)"
   ]
  },
  {
   "cell_type": "markdown",
   "id": "0831d329",
   "metadata": {},
   "source": [
    "## If for any column(s), the variance is equal to zero, then you need to remove those variable(s).\n",
    "    * Apply label encoder"
   ]
  },
  {
   "cell_type": "code",
   "execution_count": 85,
   "id": "345a4e4b",
   "metadata": {},
   "outputs": [
    {
     "data": {
      "text/html": [
       "<div>\n",
       "<style scoped>\n",
       "    .dataframe tbody tr th:only-of-type {\n",
       "        vertical-align: middle;\n",
       "    }\n",
       "\n",
       "    .dataframe tbody tr th {\n",
       "        vertical-align: top;\n",
       "    }\n",
       "\n",
       "    .dataframe thead th {\n",
       "        text-align: right;\n",
       "    }\n",
       "</style>\n",
       "<table border=\"1\" class=\"dataframe\">\n",
       "  <thead>\n",
       "    <tr style=\"text-align: right;\">\n",
       "      <th></th>\n",
       "      <th>X211</th>\n",
       "      <th>X154</th>\n",
       "      <th>X268</th>\n",
       "      <th>X253</th>\n",
       "      <th>X99</th>\n",
       "      <th>X33</th>\n",
       "      <th>X267</th>\n",
       "      <th>X276</th>\n",
       "      <th>X309</th>\n",
       "      <th>X28</th>\n",
       "      <th>...</th>\n",
       "      <th>X365</th>\n",
       "      <th>X249</th>\n",
       "      <th>X179</th>\n",
       "      <th>X113</th>\n",
       "      <th>X288</th>\n",
       "      <th>X104</th>\n",
       "      <th>X60</th>\n",
       "      <th>X242</th>\n",
       "      <th>X378</th>\n",
       "      <th>X212</th>\n",
       "    </tr>\n",
       "  </thead>\n",
       "  <tbody>\n",
       "    <tr>\n",
       "      <th>0</th>\n",
       "      <td>0</td>\n",
       "      <td>0</td>\n",
       "      <td>0</td>\n",
       "      <td>0</td>\n",
       "      <td>0</td>\n",
       "      <td>0</td>\n",
       "      <td>0</td>\n",
       "      <td>0</td>\n",
       "      <td>0</td>\n",
       "      <td>0</td>\n",
       "      <td>...</td>\n",
       "      <td>0</td>\n",
       "      <td>0</td>\n",
       "      <td>1</td>\n",
       "      <td>0</td>\n",
       "      <td>0</td>\n",
       "      <td>0</td>\n",
       "      <td>0</td>\n",
       "      <td>0</td>\n",
       "      <td>0</td>\n",
       "      <td>0</td>\n",
       "    </tr>\n",
       "    <tr>\n",
       "      <th>1</th>\n",
       "      <td>0</td>\n",
       "      <td>0</td>\n",
       "      <td>0</td>\n",
       "      <td>0</td>\n",
       "      <td>0</td>\n",
       "      <td>0</td>\n",
       "      <td>0</td>\n",
       "      <td>0</td>\n",
       "      <td>0</td>\n",
       "      <td>0</td>\n",
       "      <td>...</td>\n",
       "      <td>0</td>\n",
       "      <td>0</td>\n",
       "      <td>0</td>\n",
       "      <td>0</td>\n",
       "      <td>0</td>\n",
       "      <td>0</td>\n",
       "      <td>0</td>\n",
       "      <td>0</td>\n",
       "      <td>0</td>\n",
       "      <td>0</td>\n",
       "    </tr>\n",
       "    <tr>\n",
       "      <th>2</th>\n",
       "      <td>0</td>\n",
       "      <td>0</td>\n",
       "      <td>0</td>\n",
       "      <td>0</td>\n",
       "      <td>0</td>\n",
       "      <td>0</td>\n",
       "      <td>0</td>\n",
       "      <td>1</td>\n",
       "      <td>0</td>\n",
       "      <td>1</td>\n",
       "      <td>...</td>\n",
       "      <td>0</td>\n",
       "      <td>0</td>\n",
       "      <td>1</td>\n",
       "      <td>0</td>\n",
       "      <td>0</td>\n",
       "      <td>0</td>\n",
       "      <td>0</td>\n",
       "      <td>0</td>\n",
       "      <td>0</td>\n",
       "      <td>0</td>\n",
       "    </tr>\n",
       "    <tr>\n",
       "      <th>3</th>\n",
       "      <td>0</td>\n",
       "      <td>0</td>\n",
       "      <td>0</td>\n",
       "      <td>0</td>\n",
       "      <td>0</td>\n",
       "      <td>0</td>\n",
       "      <td>0</td>\n",
       "      <td>1</td>\n",
       "      <td>0</td>\n",
       "      <td>1</td>\n",
       "      <td>...</td>\n",
       "      <td>0</td>\n",
       "      <td>0</td>\n",
       "      <td>1</td>\n",
       "      <td>0</td>\n",
       "      <td>0</td>\n",
       "      <td>0</td>\n",
       "      <td>0</td>\n",
       "      <td>0</td>\n",
       "      <td>0</td>\n",
       "      <td>0</td>\n",
       "    </tr>\n",
       "    <tr>\n",
       "      <th>4</th>\n",
       "      <td>0</td>\n",
       "      <td>0</td>\n",
       "      <td>0</td>\n",
       "      <td>0</td>\n",
       "      <td>0</td>\n",
       "      <td>0</td>\n",
       "      <td>0</td>\n",
       "      <td>1</td>\n",
       "      <td>0</td>\n",
       "      <td>1</td>\n",
       "      <td>...</td>\n",
       "      <td>0</td>\n",
       "      <td>0</td>\n",
       "      <td>1</td>\n",
       "      <td>0</td>\n",
       "      <td>0</td>\n",
       "      <td>0</td>\n",
       "      <td>0</td>\n",
       "      <td>0</td>\n",
       "      <td>0</td>\n",
       "      <td>0</td>\n",
       "    </tr>\n",
       "  </tbody>\n",
       "</table>\n",
       "<p>5 rows × 376 columns</p>\n",
       "</div>"
      ],
      "text/plain": [
       "   X211  X154  X268  X253  X99  X33  X267  X276  X309  X28  ...  X365  X249  \\\n",
       "0     0     0     0     0    0    0     0     0     0    0  ...     0     0   \n",
       "1     0     0     0     0    0    0     0     0     0    0  ...     0     0   \n",
       "2     0     0     0     0    0    0     0     1     0    1  ...     0     0   \n",
       "3     0     0     0     0    0    0     0     1     0    1  ...     0     0   \n",
       "4     0     0     0     0    0    0     0     1     0    1  ...     0     0   \n",
       "\n",
       "   X179  X113  X288  X104  X60  X242  X378  X212  \n",
       "0     1     0     0     0    0     0     0     0  \n",
       "1     0     0     0     0    0     0     0     0  \n",
       "2     1     0     0     0    0     0     0     0  \n",
       "3     1     0     0     0    0     0     0     0  \n",
       "4     1     0     0     0    0     0     0     0  \n",
       "\n",
       "[5 rows x 376 columns]"
      ]
     },
     "execution_count": 85,
     "metadata": {},
     "output_type": "execute_result"
    }
   ],
   "source": [
    "for column in usable_columns:\n",
    "    cardinality = len(np.unique(x_train[column]))\n",
    "    if cardinality == 1:\n",
    "        x_train.drop(column, axis=1) # Column with only one \n",
    "        # value is useless so we drop it\n",
    "        x_test.drop(column, axis=1)\n",
    "    if cardinality > 2: # Column is categorical\n",
    "        mapper = lambda x: sum([ord(digit) for digit in x])\n",
    "        x_train[column] = x_train[column].apply(mapper)\n",
    "        x_test[column] = x_test[column].apply(mapper)\n",
    "x_train.head()"
   ]
  },
  {
   "cell_type": "markdown",
   "id": "96588c13",
   "metadata": {},
   "source": [
    "## Make sure the data is now changed into numericals"
   ]
  },
  {
   "cell_type": "code",
   "execution_count": 86,
   "id": "51b74e9d",
   "metadata": {},
   "outputs": [
    {
     "name": "stdout",
     "output_type": "stream",
     "text": [
      "Feature types:\n"
     ]
    },
    {
     "data": {
      "text/plain": [
       "int64    376\n",
       "dtype: int64"
      ]
     },
     "execution_count": 86,
     "metadata": {},
     "output_type": "execute_result"
    }
   ],
   "source": [
    "print('Feature types:')\n",
    "x_train[cols].dtypes.value_counts()"
   ]
  },
  {
   "cell_type": "markdown",
   "id": "0dff8c53",
   "metadata": {},
   "source": [
    "## Perform dimensionality reduction"
   ]
  },
  {
   "cell_type": "code",
   "execution_count": 87,
   "id": "25c97d46",
   "metadata": {},
   "outputs": [],
   "source": [
    "# Linear dimensionality reduction using Singular Value Decomposition of \n",
    "# the data to project it to a lower dimensional space.\n",
    "n_comp = 12\n",
    "pca = PCA(n_components=n_comp, random_state=420)\n",
    "pca2_results_train = pca.fit_transform(x_train)\n",
    "pca2_results_test = pca.transform(x_test)"
   ]
  },
  {
   "cell_type": "markdown",
   "id": "1602bd99",
   "metadata": {},
   "source": [
    "## Training using xgboost"
   ]
  },
  {
   "cell_type": "code",
   "execution_count": 88,
   "id": "514ae13d",
   "metadata": {},
   "outputs": [
    {
     "name": "stdout",
     "output_type": "stream",
     "text": [
      "Requirement already satisfied: xgboost in f:\\installed softwares\\anaconda3\\lib\\site-packages (1.6.2)\n",
      "Requirement already satisfied: scipy in f:\\installed softwares\\anaconda3\\lib\\site-packages (from xgboost) (1.7.3)\n",
      "Requirement already satisfied: numpy in f:\\installed softwares\\anaconda3\\lib\\site-packages (from xgboost) (1.21.5)\n"
     ]
    }
   ],
   "source": [
    "!pip install xgboost\n",
    "import xgboost as xgb\n",
    "from sklearn.metrics import r2_score\n",
    "from sklearn.model_selection import train_test_split"
   ]
  },
  {
   "cell_type": "code",
   "execution_count": 89,
   "id": "619e90e4",
   "metadata": {},
   "outputs": [],
   "source": [
    "x_train, x_valid, y_train, y_valid = train_test_split(\n",
    "        pca2_results_train, \n",
    "        y_train, test_size=0.2, \n",
    "        random_state=4242)"
   ]
  },
  {
   "cell_type": "code",
   "execution_count": 90,
   "id": "314b3e0e",
   "metadata": {},
   "outputs": [],
   "source": [
    "d_train = xgb.DMatrix(x_train, label=y_train)\n",
    "d_valid = xgb.DMatrix(x_valid, label=y_valid)\n",
    "#d_test = xgb.DMatrix(x_test)\n",
    "d_test = xgb.DMatrix(pca2_results_test)"
   ]
  },
  {
   "cell_type": "code",
   "execution_count": 91,
   "id": "11fdaa84",
   "metadata": {},
   "outputs": [],
   "source": [
    "params = {}\n",
    "params['objective'] = 'reg:linear'\n",
    "params['eta'] = 0.02\n",
    "params['max_depth'] = 4"
   ]
  },
  {
   "cell_type": "code",
   "execution_count": 92,
   "id": "9e0882bf",
   "metadata": {},
   "outputs": [],
   "source": [
    "def xgb_r2_score(preds, dtrain):\n",
    "    labels = dtrain.get_label()\n",
    "    return 'r2', r2_score(labels, preds)"
   ]
  },
  {
   "cell_type": "code",
   "execution_count": 93,
   "id": "9ce8cca2",
   "metadata": {},
   "outputs": [],
   "source": [
    "watchlist = [(d_train, 'train'), (d_valid, 'valid')]"
   ]
  },
  {
   "cell_type": "code",
   "execution_count": 94,
   "id": "46c277d0",
   "metadata": {},
   "outputs": [
    {
     "name": "stdout",
     "output_type": "stream",
     "text": [
      "[20:13:42] WARNING: C:/Users/administrator/workspace/xgboost-win64_release_1.6.0/src/objective/regression_obj.cu:203: reg:linear is now deprecated in favor of reg:squarederror.\n",
      "[0]\ttrain-rmse:99.14834\ttrain-r2:-58.35295\tvalid-rmse:98.26297\tvalid-r2:-67.63754\n",
      "[10]\ttrain-rmse:81.27653\ttrain-r2:-38.88428\tvalid-rmse:80.36433\tvalid-r2:-44.91014\n",
      "[20]\ttrain-rmse:66.71610\ttrain-r2:-25.87403\tvalid-rmse:65.77334\tvalid-r2:-29.75260\n",
      "[30]\ttrain-rmse:54.86915\ttrain-r2:-17.17724\tvalid-rmse:53.89120\tvalid-r2:-19.64513\n",
      "[40]\ttrain-rmse:45.24564\ttrain-r2:-11.36018\tvalid-rmse:44.22231\tvalid-r2:-12.90160\n",
      "[50]\ttrain-rmse:37.44741\ttrain-r2:-7.46672\tvalid-rmse:36.37758\tvalid-r2:-8.40697\n",
      "[60]\ttrain-rmse:31.15105\ttrain-r2:-4.85891\tvalid-rmse:30.01772\tvalid-r2:-5.40527\n",
      "[70]\ttrain-rmse:26.08768\ttrain-r2:-3.10906\tvalid-rmse:24.90842\tvalid-r2:-3.41036\n",
      "[80]\ttrain-rmse:22.04898\ttrain-r2:-1.93527\tvalid-rmse:20.82553\tvalid-r2:-2.08300\n",
      "[90]\ttrain-rmse:18.84732\ttrain-r2:-1.14472\tvalid-rmse:17.59566\tvalid-r2:-1.20086\n",
      "[100]\ttrain-rmse:16.33600\ttrain-r2:-0.61125\tvalid-rmse:15.07889\tvalid-r2:-0.61630\n",
      "[110]\ttrain-rmse:14.40376\ttrain-r2:-0.25263\tvalid-rmse:13.14505\tvalid-r2:-0.22831\n",
      "[120]\ttrain-rmse:12.93411\ttrain-r2:-0.01005\tvalid-rmse:11.69055\tvalid-r2:0.02848\n",
      "[130]\ttrain-rmse:11.82345\ttrain-r2:0.15597\tvalid-rmse:10.61414\tvalid-r2:0.19915\n",
      "[140]\ttrain-rmse:10.98920\ttrain-r2:0.27087\tvalid-rmse:9.84608\tvalid-r2:0.31086\n",
      "[150]\ttrain-rmse:10.38397\ttrain-r2:0.34897\tvalid-rmse:9.31742\tvalid-r2:0.38287\n",
      "[160]\ttrain-rmse:9.93413\ttrain-r2:0.40416\tvalid-rmse:8.95352\tvalid-r2:0.43014\n",
      "[170]\ttrain-rmse:9.60269\ttrain-r2:0.44325\tvalid-rmse:8.70937\tvalid-r2:0.46079\n",
      "[180]\ttrain-rmse:9.35806\ttrain-r2:0.47126\tvalid-rmse:8.55032\tvalid-r2:0.48031\n",
      "[190]\ttrain-rmse:9.17100\ttrain-r2:0.49219\tvalid-rmse:8.44751\tvalid-r2:0.49273\n",
      "[200]\ttrain-rmse:9.02739\ttrain-r2:0.50796\tvalid-rmse:8.37911\tvalid-r2:0.50091\n",
      "[210]\ttrain-rmse:8.92352\ttrain-r2:0.51922\tvalid-rmse:8.33967\tvalid-r2:0.50560\n",
      "[220]\ttrain-rmse:8.84438\ttrain-r2:0.52771\tvalid-rmse:8.31798\tvalid-r2:0.50817\n",
      "[230]\ttrain-rmse:8.78514\ttrain-r2:0.53402\tvalid-rmse:8.30746\tvalid-r2:0.50941\n",
      "[240]\ttrain-rmse:8.73761\ttrain-r2:0.53905\tvalid-rmse:8.29598\tvalid-r2:0.51077\n",
      "[250]\ttrain-rmse:8.69210\ttrain-r2:0.54384\tvalid-rmse:8.28894\tvalid-r2:0.51160\n",
      "[260]\ttrain-rmse:8.65424\ttrain-r2:0.54780\tvalid-rmse:8.28741\tvalid-r2:0.51178\n",
      "[270]\ttrain-rmse:8.61560\ttrain-r2:0.55183\tvalid-rmse:8.28361\tvalid-r2:0.51222\n",
      "[280]\ttrain-rmse:8.58475\ttrain-r2:0.55503\tvalid-rmse:8.27904\tvalid-r2:0.51276\n",
      "[290]\ttrain-rmse:8.55235\ttrain-r2:0.55839\tvalid-rmse:8.28074\tvalid-r2:0.51256\n",
      "[300]\ttrain-rmse:8.52572\ttrain-r2:0.56113\tvalid-rmse:8.27914\tvalid-r2:0.51275\n",
      "[310]\ttrain-rmse:8.50471\ttrain-r2:0.56329\tvalid-rmse:8.27912\tvalid-r2:0.51275\n",
      "[320]\ttrain-rmse:8.47811\ttrain-r2:0.56602\tvalid-rmse:8.27766\tvalid-r2:0.51292\n",
      "[330]\ttrain-rmse:8.44526\ttrain-r2:0.56938\tvalid-rmse:8.27465\tvalid-r2:0.51328\n",
      "[340]\ttrain-rmse:8.42051\ttrain-r2:0.57190\tvalid-rmse:8.27417\tvalid-r2:0.51333\n",
      "[350]\ttrain-rmse:8.39755\ttrain-r2:0.57423\tvalid-rmse:8.27230\tvalid-r2:0.51355\n",
      "[360]\ttrain-rmse:8.37004\ttrain-r2:0.57701\tvalid-rmse:8.27216\tvalid-r2:0.51357\n",
      "[370]\ttrain-rmse:8.35277\ttrain-r2:0.57876\tvalid-rmse:8.27227\tvalid-r2:0.51356\n",
      "[380]\ttrain-rmse:8.32888\ttrain-r2:0.58116\tvalid-rmse:8.27027\tvalid-r2:0.51379\n",
      "[390]\ttrain-rmse:8.29872\ttrain-r2:0.58419\tvalid-rmse:8.26562\tvalid-r2:0.51434\n",
      "[400]\ttrain-rmse:8.27310\ttrain-r2:0.58675\tvalid-rmse:8.26112\tvalid-r2:0.51487\n",
      "[410]\ttrain-rmse:8.24799\ttrain-r2:0.58926\tvalid-rmse:8.26009\tvalid-r2:0.51499\n",
      "[420]\ttrain-rmse:8.22427\ttrain-r2:0.59162\tvalid-rmse:8.25633\tvalid-r2:0.51543\n",
      "[430]\ttrain-rmse:8.19995\ttrain-r2:0.59403\tvalid-rmse:8.25360\tvalid-r2:0.51575\n",
      "[440]\ttrain-rmse:8.16910\ttrain-r2:0.59708\tvalid-rmse:8.25293\tvalid-r2:0.51583\n",
      "[450]\ttrain-rmse:8.14510\ttrain-r2:0.59944\tvalid-rmse:8.25352\tvalid-r2:0.51576\n",
      "[460]\ttrain-rmse:8.11876\ttrain-r2:0.60203\tvalid-rmse:8.25449\tvalid-r2:0.51565\n",
      "[470]\ttrain-rmse:8.09204\ttrain-r2:0.60464\tvalid-rmse:8.25253\tvalid-r2:0.51588\n",
      "[480]\ttrain-rmse:8.07398\ttrain-r2:0.60641\tvalid-rmse:8.25126\tvalid-r2:0.51602\n",
      "[490]\ttrain-rmse:8.04974\ttrain-r2:0.60877\tvalid-rmse:8.25450\tvalid-r2:0.51565\n",
      "[500]\ttrain-rmse:8.02601\ttrain-r2:0.61107\tvalid-rmse:8.25549\tvalid-r2:0.51553\n",
      "[510]\ttrain-rmse:8.00158\ttrain-r2:0.61343\tvalid-rmse:8.25537\tvalid-r2:0.51554\n",
      "[520]\ttrain-rmse:7.97973\ttrain-r2:0.61554\tvalid-rmse:8.25427\tvalid-r2:0.51567\n",
      "[528]\ttrain-rmse:7.95964\ttrain-r2:0.61748\tvalid-rmse:8.25476\tvalid-r2:0.51562\n"
     ]
    }
   ],
   "source": [
    "clf = xgb.train(params, d_train, \n",
    "                1000, watchlist, early_stopping_rounds=50, \n",
    "                feval=xgb_r2_score, maximize=True, verbose_eval=10)"
   ]
  },
  {
   "cell_type": "markdown",
   "id": "778770c7",
   "metadata": {},
   "source": [
    "## Predict your test_df values using xgboost"
   ]
  },
  {
   "cell_type": "code",
   "execution_count": 95,
   "id": "4e6c7620",
   "metadata": {},
   "outputs": [],
   "source": [
    "p_test = clf.predict(d_test)"
   ]
  },
  {
   "cell_type": "code",
   "execution_count": 96,
   "id": "6f7793c2",
   "metadata": {},
   "outputs": [],
   "source": [
    "sub = pd.DataFrame()\n",
    "sub['ID'] = id_test\n",
    "sub['y'] = p_test\n",
    "sub.to_csv('xgb.csv', index=False)"
   ]
  },
  {
   "cell_type": "code",
   "execution_count": 97,
   "id": "9da8a4ba",
   "metadata": {},
   "outputs": [
    {
     "data": {
      "text/html": [
       "<div>\n",
       "<style scoped>\n",
       "    .dataframe tbody tr th:only-of-type {\n",
       "        vertical-align: middle;\n",
       "    }\n",
       "\n",
       "    .dataframe tbody tr th {\n",
       "        vertical-align: top;\n",
       "    }\n",
       "\n",
       "    .dataframe thead th {\n",
       "        text-align: right;\n",
       "    }\n",
       "</style>\n",
       "<table border=\"1\" class=\"dataframe\">\n",
       "  <thead>\n",
       "    <tr style=\"text-align: right;\">\n",
       "      <th></th>\n",
       "      <th>ID</th>\n",
       "      <th>y</th>\n",
       "    </tr>\n",
       "  </thead>\n",
       "  <tbody>\n",
       "    <tr>\n",
       "      <th>0</th>\n",
       "      <td>1</td>\n",
       "      <td>82.980400</td>\n",
       "    </tr>\n",
       "    <tr>\n",
       "      <th>1</th>\n",
       "      <td>2</td>\n",
       "      <td>97.419472</td>\n",
       "    </tr>\n",
       "    <tr>\n",
       "      <th>2</th>\n",
       "      <td>3</td>\n",
       "      <td>83.299011</td>\n",
       "    </tr>\n",
       "    <tr>\n",
       "      <th>3</th>\n",
       "      <td>4</td>\n",
       "      <td>76.984482</td>\n",
       "    </tr>\n",
       "    <tr>\n",
       "      <th>4</th>\n",
       "      <td>5</td>\n",
       "      <td>112.712082</td>\n",
       "    </tr>\n",
       "  </tbody>\n",
       "</table>\n",
       "</div>"
      ],
      "text/plain": [
       "   ID           y\n",
       "0   1   82.980400\n",
       "1   2   97.419472\n",
       "2   3   83.299011\n",
       "3   4   76.984482\n",
       "4   5  112.712082"
      ]
     },
     "execution_count": 97,
     "metadata": {},
     "output_type": "execute_result"
    }
   ],
   "source": [
    "sub.head()"
   ]
  },
  {
   "cell_type": "code",
   "execution_count": null,
   "id": "23a22ce5",
   "metadata": {},
   "outputs": [],
   "source": []
  },
  {
   "cell_type": "code",
   "execution_count": null,
   "id": "658fc14f",
   "metadata": {},
   "outputs": [],
   "source": []
  }
 ],
 "metadata": {
  "kernelspec": {
   "display_name": "Python 3 (ipykernel)",
   "language": "python",
   "name": "python3"
  },
  "language_info": {
   "codemirror_mode": {
    "name": "ipython",
    "version": 3
   },
   "file_extension": ".py",
   "mimetype": "text/x-python",
   "name": "python",
   "nbconvert_exporter": "python",
   "pygments_lexer": "ipython3",
   "version": "3.9.12"
  }
 },
 "nbformat": 4,
 "nbformat_minor": 5
}
